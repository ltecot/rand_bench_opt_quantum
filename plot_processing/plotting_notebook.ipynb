{
 "cells": [
  {
   "cell_type": "code",
   "execution_count": 1,
   "id": "62a2bf09",
   "metadata": {},
   "outputs": [],
   "source": [
    "import seaborn as sns\n",
    "import pandas as pd\n",
    "import wandb"
   ]
  },
  {
   "cell_type": "code",
   "execution_count": 2,
   "id": "cc7ce70b",
   "metadata": {},
   "outputs": [],
   "source": [
    "# Functions\n",
    "\n",
    "def load_sweeps(sweeps, config_save):\n",
    "    filter_dict = {\"sweep\":{\"$in\":sweeps}}\n",
    "    api = wandb.Api()\n",
    "    entity, project = \"ltecot\", \"quantum_optimization\"\n",
    "    runs = api.runs(entity + \"/\" + project, filters=filter_dict)\n",
    "    summary_list, config_list, name_list = [], [], []\n",
    "    runs_list = []\n",
    "    for run in runs:\n",
    "        run_data = run.history()\n",
    "        remove_columns = [k for k in run_data.columns.values if k.startswith('_')]\n",
    "        run_data = run_data.drop(columns=remove_columns)\n",
    "        save_from_config = dict((k, run.config[k]) for k in config_save)\n",
    "        save_from_config[\"run_name\"] = run.name\n",
    "        run_data = run_data.assign(**save_from_config)\n",
    "        runs_list.append(run_data)\n",
    "        print(\"Loaded \" + run.name)\n",
    "    runs_df = pd.concat(runs_list)\n",
    "    return runs_df"
   ]
  },
  {
   "cell_type": "code",
   "execution_count": 3,
   "id": "ec38fd1a",
   "metadata": {},
   "outputs": [
    {
     "name": "stdout",
     "output_type": "stream",
     "text": [
      "Loaded vital-sweep-100\n",
      "Loaded twilight-sweep-99\n",
      "Loaded fiery-sweep-98\n",
      "Loaded lilac-sweep-97\n",
      "Loaded glad-sweep-96\n",
      "Loaded efficient-sweep-95\n",
      "Loaded fast-sweep-94\n",
      "Loaded dark-sweep-93\n",
      "Loaded eternal-sweep-92\n",
      "Loaded chocolate-sweep-91\n",
      "Loaded classic-sweep-90\n",
      "Loaded legendary-sweep-89\n",
      "Loaded gallant-sweep-88\n",
      "Loaded atomic-sweep-87\n",
      "Loaded exalted-sweep-86\n",
      "Loaded noble-sweep-85\n",
      "Loaded comic-sweep-84\n",
      "Loaded blooming-sweep-83\n",
      "Loaded frosty-sweep-82\n",
      "Loaded twilight-sweep-81\n",
      "Loaded rural-sweep-80\n",
      "Loaded charmed-sweep-79\n",
      "Loaded earthy-sweep-78\n",
      "Loaded solar-sweep-77\n",
      "Loaded rich-sweep-76\n",
      "Loaded earthy-sweep-75\n",
      "Loaded lucky-sweep-74\n",
      "Loaded radiant-sweep-73\n",
      "Loaded pleasant-sweep-72\n",
      "Loaded comfy-sweep-71\n",
      "Loaded eager-sweep-70\n",
      "Loaded glad-sweep-69\n",
      "Loaded lively-sweep-68\n",
      "Loaded hopeful-sweep-67\n",
      "Loaded swept-sweep-66\n",
      "Loaded lyric-sweep-65\n",
      "Loaded vital-sweep-64\n",
      "Loaded legendary-sweep-63\n",
      "Loaded upbeat-sweep-62\n",
      "Loaded confused-sweep-61\n",
      "Loaded devout-sweep-60\n",
      "Loaded fallen-sweep-59\n",
      "Loaded vital-sweep-58\n",
      "Loaded chocolate-sweep-57\n",
      "Loaded azure-sweep-56\n",
      "Loaded rose-sweep-55\n",
      "Loaded easy-sweep-54\n",
      "Loaded magic-sweep-53\n",
      "Loaded lemon-sweep-52\n",
      "Loaded good-sweep-51\n",
      "Loaded rich-sweep-50\n",
      "Loaded celestial-sweep-49\n",
      "Loaded fiery-sweep-48\n",
      "Loaded peachy-sweep-47\n",
      "Loaded wandering-sweep-46\n",
      "Loaded wobbly-sweep-45\n",
      "Loaded balmy-sweep-44\n",
      "Loaded ethereal-sweep-43\n",
      "Loaded winter-sweep-42\n",
      "Loaded wandering-sweep-41\n",
      "Loaded royal-sweep-40\n",
      "Loaded eager-sweep-39\n",
      "Loaded vital-sweep-38\n",
      "Loaded magic-sweep-37\n",
      "Loaded logical-sweep-36\n",
      "Loaded sparkling-sweep-35\n",
      "Loaded logical-sweep-34\n",
      "Loaded blooming-sweep-33\n",
      "Loaded driven-sweep-32\n",
      "Loaded curious-sweep-31\n",
      "Loaded electric-sweep-30\n",
      "Loaded dulcet-sweep-29\n",
      "Loaded usual-sweep-28\n",
      "Loaded deep-sweep-27\n",
      "Loaded pleasant-sweep-26\n",
      "Loaded wandering-sweep-25\n",
      "Loaded gentle-sweep-24\n",
      "Loaded youthful-sweep-23\n",
      "Loaded charmed-sweep-22\n",
      "Loaded chocolate-sweep-21\n",
      "Loaded glamorous-sweep-20\n",
      "Loaded driven-sweep-19\n",
      "Loaded glowing-sweep-18\n",
      "Loaded earnest-sweep-17\n",
      "Loaded autumn-sweep-16\n",
      "Loaded olive-sweep-15\n",
      "Loaded trim-sweep-14\n",
      "Loaded peachy-sweep-13\n",
      "Loaded decent-sweep-12\n",
      "Loaded distinctive-sweep-11\n",
      "Loaded leafy-sweep-10\n",
      "Loaded restful-sweep-9\n",
      "Loaded giddy-sweep-8\n",
      "Loaded azure-sweep-7\n",
      "Loaded swift-sweep-6\n",
      "Loaded super-sweep-5\n",
      "Loaded olive-sweep-4\n",
      "Loaded decent-sweep-3\n",
      "Loaded ethereal-sweep-2\n",
      "Loaded lunar-sweep-1\n"
     ]
    }
   ],
   "source": [
    "# Load experiment runs\n",
    "# Don't worry if this hangs, it can take a very long time\n",
    "# Loading too many might overload your machine, so be careful when doing so\n",
    "\n",
    "config_save = [\"optimizer\", \"rand_seed\"]\n",
    "\n",
    "test_sweep = [\"ynq6zj7a\"]\n",
    "test_runs = load_sweeps(test_sweep, config_save)\n",
    "\n",
    "# ising_1d_sweeps = [\"ynq6zj7a\",\"grtaezvx\",\"osdq0v2h\",\"8le1ihts\",\"v3zzxoqv\",\"b07fcmu0\",\"6f90a439\"]\n",
    "# ising_1d_runs = load_sweeps(ising_1d_sweeps, config_save)\n",
    "\n",
    "# TODO : Add other experiments\n"
   ]
  },
  {
   "cell_type": "code",
   "execution_count": 5,
   "id": "e4fe70ae",
   "metadata": {},
   "outputs": [
    {
     "data": {
      "text/plain": [
       "<seaborn.axisgrid.FacetGrid at 0x10849d450>"
      ]
     },
     "execution_count": 5,
     "metadata": {},
     "output_type": "execute_result"
    },
    {
     "data": {
      "image/png": "[encoded data removed]",
      "text/plain": [
       "<Figure size 619.125x500 with 1 Axes>"
      ]
     },
     "metadata": {},
     "output_type": "display_data"
    }
   ],
   "source": [
    "# print(test_runs)\n",
    "sns.relplot(data=test_runs, x=\"step\", y=\"loss\", hue=\"optimizer\", kind=\"line\")"
   ]
  },
  {
   "cell_type": "code",
   "execution_count": null,
   "id": "b21a1929",
   "metadata": {},
   "outputs": [],
   "source": []
  }
 ],
 "metadata": {
  "kernelspec": {
   "display_name": "Python 3 (ipykernel)",
   "language": "python",
   "name": "python3"
  },
  "language_info": {
   "codemirror_mode": {
    "name": "ipython",
    "version": 3
   },
   "file_extension": ".py",
   "mimetype": "text/x-python",
   "name": "python",
   "nbconvert_exporter": "python",
   "pygments_lexer": "ipython3",
   "version": "3.11.4"
  }
 },
 "nbformat": 4,
 "nbformat_minor": 5
}
